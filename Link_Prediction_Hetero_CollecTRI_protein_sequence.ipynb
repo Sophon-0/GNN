{
  "nbformat": 4,
  "nbformat_minor": 0,
  "metadata": {
    "colab": {
      "provenance": [],
      "machine_shape": "hm",
      "gpuType": "L4"
    },
    "kernelspec": {
      "name": "python3",
      "display_name": "Python 3"
    },
    "language_info": {
      "name": "python"
    },
    "accelerator": "GPU",
    "widgets": {
      "application/vnd.jupyter.widget-state+json": {
        "010f6403dc0d4092a59debcaf4391269": {
          "model_module": "@jupyter-widgets/controls",
          "model_name": "HBoxModel",
          "model_module_version": "1.5.0",
          "state": {
            "_dom_classes": [],
            "_model_module": "@jupyter-widgets/controls",
            "_model_module_version": "1.5.0",
            "_model_name": "HBoxModel",
            "_view_count": null,
            "_view_module": "@jupyter-widgets/controls",
            "_view_module_version": "1.5.0",
            "_view_name": "HBoxView",
            "box_style": "",
            "children": [
              "IPY_MODEL_e73db548be20447784f60fea2ac97a4f",
              "IPY_MODEL_13fb09091bc045d59c10f7111e8ed733",
              "IPY_MODEL_54c6d4088d8d48aebe3ef2d7a7d5d4f0"
            ],
            "layout": "IPY_MODEL_44fe08cdbb8b4be8908800156765807f"
          }
        },
        "e73db548be20447784f60fea2ac97a4f": {
          "model_module": "@jupyter-widgets/controls",
          "model_name": "HTMLModel",
          "model_module_version": "1.5.0",
          "state": {
            "_dom_classes": [],
            "_model_module": "@jupyter-widgets/controls",
            "_model_module_version": "1.5.0",
            "_model_name": "HTMLModel",
            "_view_count": null,
            "_view_module": "@jupyter-widgets/controls",
            "_view_module_version": "1.5.0",
            "_view_name": "HTMLView",
            "description": "",
            "description_tooltip": null,
            "layout": "IPY_MODEL_73c1611ec5b340dbb0fefea8906dea7f",
            "placeholder": "​",
            "style": "IPY_MODEL_d7e21374b3fa41659191cce759793955",
            "value": "100%"
          }
        },
        "13fb09091bc045d59c10f7111e8ed733": {
          "model_module": "@jupyter-widgets/controls",
          "model_name": "FloatProgressModel",
          "model_module_version": "1.5.0",
          "state": {
            "_dom_classes": [],
            "_model_module": "@jupyter-widgets/controls",
            "_model_module_version": "1.5.0",
            "_model_name": "FloatProgressModel",
            "_view_count": null,
            "_view_module": "@jupyter-widgets/controls",
            "_view_module_version": "1.5.0",
            "_view_name": "ProgressView",
            "bar_style": "success",
            "description": "",
            "description_tooltip": null,
            "layout": "IPY_MODEL_f816301a373b4a5b90561099bb932af0",
            "max": 2551921,
            "min": 0,
            "orientation": "horizontal",
            "style": "IPY_MODEL_8613f5c1526640fd8e1274973cd5cb75",
            "value": 2551921
          }
        },
        "54c6d4088d8d48aebe3ef2d7a7d5d4f0": {
          "model_module": "@jupyter-widgets/controls",
          "model_name": "HTMLModel",
          "model_module_version": "1.5.0",
          "state": {
            "_dom_classes": [],
            "_model_module": "@jupyter-widgets/controls",
            "_model_module_version": "1.5.0",
            "_model_name": "HTMLModel",
            "_view_count": null,
            "_view_module": "@jupyter-widgets/controls",
            "_view_module_version": "1.5.0",
            "_view_name": "HTMLView",
            "description": "",
            "description_tooltip": null,
            "layout": "IPY_MODEL_d969af636e344301bc984950fa1ce598",
            "placeholder": "​",
            "style": "IPY_MODEL_5cf24001288d422f998cbc6bb6f8a57d",
            "value": " 2.43M/2.43M [00:01&lt;00:00, 3.28MB/s]"
          }
        },
        "44fe08cdbb8b4be8908800156765807f": {
          "model_module": "@jupyter-widgets/base",
          "model_name": "LayoutModel",
          "model_module_version": "1.2.0",
          "state": {
            "_model_module": "@jupyter-widgets/base",
            "_model_module_version": "1.2.0",
            "_model_name": "LayoutModel",
            "_view_count": null,
            "_view_module": "@jupyter-widgets/base",
            "_view_module_version": "1.2.0",
            "_view_name": "LayoutView",
            "align_content": null,
            "align_items": null,
            "align_self": null,
            "border": null,
            "bottom": null,
            "display": null,
            "flex": null,
            "flex_flow": null,
            "grid_area": null,
            "grid_auto_columns": null,
            "grid_auto_flow": null,
            "grid_auto_rows": null,
            "grid_column": null,
            "grid_gap": null,
            "grid_row": null,
            "grid_template_areas": null,
            "grid_template_columns": null,
            "grid_template_rows": null,
            "height": null,
            "justify_content": null,
            "justify_items": null,
            "left": null,
            "margin": null,
            "max_height": null,
            "max_width": null,
            "min_height": null,
            "min_width": null,
            "object_fit": null,
            "object_position": null,
            "order": null,
            "overflow": null,
            "overflow_x": null,
            "overflow_y": null,
            "padding": null,
            "right": null,
            "top": null,
            "visibility": null,
            "width": null
          }
        },
        "73c1611ec5b340dbb0fefea8906dea7f": {
          "model_module": "@jupyter-widgets/base",
          "model_name": "LayoutModel",
          "model_module_version": "1.2.0",
          "state": {
            "_model_module": "@jupyter-widgets/base",
            "_model_module_version": "1.2.0",
            "_model_name": "LayoutModel",
            "_view_count": null,
            "_view_module": "@jupyter-widgets/base",
            "_view_module_version": "1.2.0",
            "_view_name": "LayoutView",
            "align_content": null,
            "align_items": null,
            "align_self": null,
            "border": null,
            "bottom": null,
            "display": null,
            "flex": null,
            "flex_flow": null,
            "grid_area": null,
            "grid_auto_columns": null,
            "grid_auto_flow": null,
            "grid_auto_rows": null,
            "grid_column": null,
            "grid_gap": null,
            "grid_row": null,
            "grid_template_areas": null,
            "grid_template_columns": null,
            "grid_template_rows": null,
            "height": null,
            "justify_content": null,
            "justify_items": null,
            "left": null,
            "margin": null,
            "max_height": null,
            "max_width": null,
            "min_height": null,
            "min_width": null,
            "object_fit": null,
            "object_position": null,
            "order": null,
            "overflow": null,
            "overflow_x": null,
            "overflow_y": null,
            "padding": null,
            "right": null,
            "top": null,
            "visibility": null,
            "width": null
          }
        },
        "d7e21374b3fa41659191cce759793955": {
          "model_module": "@jupyter-widgets/controls",
          "model_name": "DescriptionStyleModel",
          "model_module_version": "1.5.0",
          "state": {
            "_model_module": "@jupyter-widgets/controls",
            "_model_module_version": "1.5.0",
            "_model_name": "DescriptionStyleModel",
            "_view_count": null,
            "_view_module": "@jupyter-widgets/base",
            "_view_module_version": "1.2.0",
            "_view_name": "StyleView",
            "description_width": ""
          }
        },
        "f816301a373b4a5b90561099bb932af0": {
          "model_module": "@jupyter-widgets/base",
          "model_name": "LayoutModel",
          "model_module_version": "1.2.0",
          "state": {
            "_model_module": "@jupyter-widgets/base",
            "_model_module_version": "1.2.0",
            "_model_name": "LayoutModel",
            "_view_count": null,
            "_view_module": "@jupyter-widgets/base",
            "_view_module_version": "1.2.0",
            "_view_name": "LayoutView",
            "align_content": null,
            "align_items": null,
            "align_self": null,
            "border": null,
            "bottom": null,
            "display": null,
            "flex": null,
            "flex_flow": null,
            "grid_area": null,
            "grid_auto_columns": null,
            "grid_auto_flow": null,
            "grid_auto_rows": null,
            "grid_column": null,
            "grid_gap": null,
            "grid_row": null,
            "grid_template_areas": null,
            "grid_template_columns": null,
            "grid_template_rows": null,
            "height": null,
            "justify_content": null,
            "justify_items": null,
            "left": null,
            "margin": null,
            "max_height": null,
            "max_width": null,
            "min_height": null,
            "min_width": null,
            "object_fit": null,
            "object_position": null,
            "order": null,
            "overflow": null,
            "overflow_x": null,
            "overflow_y": null,
            "padding": null,
            "right": null,
            "top": null,
            "visibility": null,
            "width": null
          }
        },
        "8613f5c1526640fd8e1274973cd5cb75": {
          "model_module": "@jupyter-widgets/controls",
          "model_name": "ProgressStyleModel",
          "model_module_version": "1.5.0",
          "state": {
            "_model_module": "@jupyter-widgets/controls",
            "_model_module_version": "1.5.0",
            "_model_name": "ProgressStyleModel",
            "_view_count": null,
            "_view_module": "@jupyter-widgets/base",
            "_view_module_version": "1.2.0",
            "_view_name": "StyleView",
            "bar_color": null,
            "description_width": ""
          }
        },
        "d969af636e344301bc984950fa1ce598": {
          "model_module": "@jupyter-widgets/base",
          "model_name": "LayoutModel",
          "model_module_version": "1.2.0",
          "state": {
            "_model_module": "@jupyter-widgets/base",
            "_model_module_version": "1.2.0",
            "_model_name": "LayoutModel",
            "_view_count": null,
            "_view_module": "@jupyter-widgets/base",
            "_view_module_version": "1.2.0",
            "_view_name": "LayoutView",
            "align_content": null,
            "align_items": null,
            "align_self": null,
            "border": null,
            "bottom": null,
            "display": null,
            "flex": null,
            "flex_flow": null,
            "grid_area": null,
            "grid_auto_columns": null,
            "grid_auto_flow": null,
            "grid_auto_rows": null,
            "grid_column": null,
            "grid_gap": null,
            "grid_row": null,
            "grid_template_areas": null,
            "grid_template_columns": null,
            "grid_template_rows": null,
            "height": null,
            "justify_content": null,
            "justify_items": null,
            "left": null,
            "margin": null,
            "max_height": null,
            "max_width": null,
            "min_height": null,
            "min_width": null,
            "object_fit": null,
            "object_position": null,
            "order": null,
            "overflow": null,
            "overflow_x": null,
            "overflow_y": null,
            "padding": null,
            "right": null,
            "top": null,
            "visibility": null,
            "width": null
          }
        },
        "5cf24001288d422f998cbc6bb6f8a57d": {
          "model_module": "@jupyter-widgets/controls",
          "model_name": "DescriptionStyleModel",
          "model_module_version": "1.5.0",
          "state": {
            "_model_module": "@jupyter-widgets/controls",
            "_model_module_version": "1.5.0",
            "_model_name": "DescriptionStyleModel",
            "_view_count": null,
            "_view_module": "@jupyter-widgets/base",
            "_view_module_version": "1.2.0",
            "_view_name": "StyleView",
            "description_width": ""
          }
        },
        "2e9002c5d97945c6aaa23b892520e7eb": {
          "model_module": "@jupyter-widgets/controls",
          "model_name": "HBoxModel",
          "model_module_version": "1.5.0",
          "state": {
            "_dom_classes": [],
            "_model_module": "@jupyter-widgets/controls",
            "_model_module_version": "1.5.0",
            "_model_name": "HBoxModel",
            "_view_count": null,
            "_view_module": "@jupyter-widgets/controls",
            "_view_module_version": "1.5.0",
            "_view_name": "HBoxView",
            "box_style": "",
            "children": [
              "IPY_MODEL_cd9a3bfafb63412a9ed4bd341d31380e",
              "IPY_MODEL_a023c501a3694101af825fa54a8f516b",
              "IPY_MODEL_d1a8479767b64150873bf72a5283653d"
            ],
            "layout": "IPY_MODEL_fa40e66294dc4f19937037c937c50f53"
          }
        },
        "cd9a3bfafb63412a9ed4bd341d31380e": {
          "model_module": "@jupyter-widgets/controls",
          "model_name": "HTMLModel",
          "model_module_version": "1.5.0",
          "state": {
            "_dom_classes": [],
            "_model_module": "@jupyter-widgets/controls",
            "_model_module_version": "1.5.0",
            "_model_name": "HTMLModel",
            "_view_count": null,
            "_view_module": "@jupyter-widgets/controls",
            "_view_module_version": "1.5.0",
            "_view_name": "HTMLView",
            "description": "",
            "description_tooltip": null,
            "layout": "IPY_MODEL_5c1e3e679f6842d0a198c53ea38502a7",
            "placeholder": "​",
            "style": "IPY_MODEL_fcf52838bca341bfba437405dd3750e0",
            "value": ""
          }
        },
        "a023c501a3694101af825fa54a8f516b": {
          "model_module": "@jupyter-widgets/controls",
          "model_name": "FloatProgressModel",
          "model_module_version": "1.5.0",
          "state": {
            "_dom_classes": [],
            "_model_module": "@jupyter-widgets/controls",
            "_model_module_version": "1.5.0",
            "_model_name": "FloatProgressModel",
            "_view_count": null,
            "_view_module": "@jupyter-widgets/controls",
            "_view_module_version": "1.5.0",
            "_view_name": "ProgressView",
            "bar_style": "success",
            "description": "",
            "description_tooltip": null,
            "layout": "IPY_MODEL_0a7dcf032ce747b2aca219a953571b71",
            "max": 1,
            "min": 0,
            "orientation": "horizontal",
            "style": "IPY_MODEL_d9ffa7b614a24a36abf4c7753b4c815b",
            "value": 1
          }
        },
        "d1a8479767b64150873bf72a5283653d": {
          "model_module": "@jupyter-widgets/controls",
          "model_name": "HTMLModel",
          "model_module_version": "1.5.0",
          "state": {
            "_dom_classes": [],
            "_model_module": "@jupyter-widgets/controls",
            "_model_module_version": "1.5.0",
            "_model_name": "HTMLModel",
            "_view_count": null,
            "_view_module": "@jupyter-widgets/controls",
            "_view_module_version": "1.5.0",
            "_view_name": "HTMLView",
            "description": "",
            "description_tooltip": null,
            "layout": "IPY_MODEL_3b653e511796413bb8939055e08958e5",
            "placeholder": "​",
            "style": "IPY_MODEL_88e2c2926e04459ebe484cf32322fa20",
            "value": " 118k/? [00:00&lt;00:00, 9.04MB/s]"
          }
        },
        "fa40e66294dc4f19937037c937c50f53": {
          "model_module": "@jupyter-widgets/base",
          "model_name": "LayoutModel",
          "model_module_version": "1.2.0",
          "state": {
            "_model_module": "@jupyter-widgets/base",
            "_model_module_version": "1.2.0",
            "_model_name": "LayoutModel",
            "_view_count": null,
            "_view_module": "@jupyter-widgets/base",
            "_view_module_version": "1.2.0",
            "_view_name": "LayoutView",
            "align_content": null,
            "align_items": null,
            "align_self": null,
            "border": null,
            "bottom": null,
            "display": null,
            "flex": null,
            "flex_flow": null,
            "grid_area": null,
            "grid_auto_columns": null,
            "grid_auto_flow": null,
            "grid_auto_rows": null,
            "grid_column": null,
            "grid_gap": null,
            "grid_row": null,
            "grid_template_areas": null,
            "grid_template_columns": null,
            "grid_template_rows": null,
            "height": null,
            "justify_content": null,
            "justify_items": null,
            "left": null,
            "margin": null,
            "max_height": null,
            "max_width": null,
            "min_height": null,
            "min_width": null,
            "object_fit": null,
            "object_position": null,
            "order": null,
            "overflow": null,
            "overflow_x": null,
            "overflow_y": null,
            "padding": null,
            "right": null,
            "top": null,
            "visibility": null,
            "width": null
          }
        },
        "5c1e3e679f6842d0a198c53ea38502a7": {
          "model_module": "@jupyter-widgets/base",
          "model_name": "LayoutModel",
          "model_module_version": "1.2.0",
          "state": {
            "_model_module": "@jupyter-widgets/base",
            "_model_module_version": "1.2.0",
            "_model_name": "LayoutModel",
            "_view_count": null,
            "_view_module": "@jupyter-widgets/base",
            "_view_module_version": "1.2.0",
            "_view_name": "LayoutView",
            "align_content": null,
            "align_items": null,
            "align_self": null,
            "border": null,
            "bottom": null,
            "display": null,
            "flex": null,
            "flex_flow": null,
            "grid_area": null,
            "grid_auto_columns": null,
            "grid_auto_flow": null,
            "grid_auto_rows": null,
            "grid_column": null,
            "grid_gap": null,
            "grid_row": null,
            "grid_template_areas": null,
            "grid_template_columns": null,
            "grid_template_rows": null,
            "height": null,
            "justify_content": null,
            "justify_items": null,
            "left": null,
            "margin": null,
            "max_height": null,
            "max_width": null,
            "min_height": null,
            "min_width": null,
            "object_fit": null,
            "object_position": null,
            "order": null,
            "overflow": null,
            "overflow_x": null,
            "overflow_y": null,
            "padding": null,
            "right": null,
            "top": null,
            "visibility": null,
            "width": null
          }
        },
        "fcf52838bca341bfba437405dd3750e0": {
          "model_module": "@jupyter-widgets/controls",
          "model_name": "DescriptionStyleModel",
          "model_module_version": "1.5.0",
          "state": {
            "_model_module": "@jupyter-widgets/controls",
            "_model_module_version": "1.5.0",
            "_model_name": "DescriptionStyleModel",
            "_view_count": null,
            "_view_module": "@jupyter-widgets/base",
            "_view_module_version": "1.2.0",
            "_view_name": "StyleView",
            "description_width": ""
          }
        },
        "0a7dcf032ce747b2aca219a953571b71": {
          "model_module": "@jupyter-widgets/base",
          "model_name": "LayoutModel",
          "model_module_version": "1.2.0",
          "state": {
            "_model_module": "@jupyter-widgets/base",
            "_model_module_version": "1.2.0",
            "_model_name": "LayoutModel",
            "_view_count": null,
            "_view_module": "@jupyter-widgets/base",
            "_view_module_version": "1.2.0",
            "_view_name": "LayoutView",
            "align_content": null,
            "align_items": null,
            "align_self": null,
            "border": null,
            "bottom": null,
            "display": null,
            "flex": null,
            "flex_flow": null,
            "grid_area": null,
            "grid_auto_columns": null,
            "grid_auto_flow": null,
            "grid_auto_rows": null,
            "grid_column": null,
            "grid_gap": null,
            "grid_row": null,
            "grid_template_areas": null,
            "grid_template_columns": null,
            "grid_template_rows": null,
            "height": null,
            "justify_content": null,
            "justify_items": null,
            "left": null,
            "margin": null,
            "max_height": null,
            "max_width": null,
            "min_height": null,
            "min_width": null,
            "object_fit": null,
            "object_position": null,
            "order": null,
            "overflow": null,
            "overflow_x": null,
            "overflow_y": null,
            "padding": null,
            "right": null,
            "top": null,
            "visibility": null,
            "width": "20px"
          }
        },
        "d9ffa7b614a24a36abf4c7753b4c815b": {
          "model_module": "@jupyter-widgets/controls",
          "model_name": "ProgressStyleModel",
          "model_module_version": "1.5.0",
          "state": {
            "_model_module": "@jupyter-widgets/controls",
            "_model_module_version": "1.5.0",
            "_model_name": "ProgressStyleModel",
            "_view_count": null,
            "_view_module": "@jupyter-widgets/base",
            "_view_module_version": "1.2.0",
            "_view_name": "StyleView",
            "bar_color": null,
            "description_width": ""
          }
        },
        "3b653e511796413bb8939055e08958e5": {
          "model_module": "@jupyter-widgets/base",
          "model_name": "LayoutModel",
          "model_module_version": "1.2.0",
          "state": {
            "_model_module": "@jupyter-widgets/base",
            "_model_module_version": "1.2.0",
            "_model_name": "LayoutModel",
            "_view_count": null,
            "_view_module": "@jupyter-widgets/base",
            "_view_module_version": "1.2.0",
            "_view_name": "LayoutView",
            "align_content": null,
            "align_items": null,
            "align_self": null,
            "border": null,
            "bottom": null,
            "display": null,
            "flex": null,
            "flex_flow": null,
            "grid_area": null,
            "grid_auto_columns": null,
            "grid_auto_flow": null,
            "grid_auto_rows": null,
            "grid_column": null,
            "grid_gap": null,
            "grid_row": null,
            "grid_template_areas": null,
            "grid_template_columns": null,
            "grid_template_rows": null,
            "height": null,
            "justify_content": null,
            "justify_items": null,
            "left": null,
            "margin": null,
            "max_height": null,
            "max_width": null,
            "min_height": null,
            "min_width": null,
            "object_fit": null,
            "object_position": null,
            "order": null,
            "overflow": null,
            "overflow_x": null,
            "overflow_y": null,
            "padding": null,
            "right": null,
            "top": null,
            "visibility": null,
            "width": null
          }
        },
        "88e2c2926e04459ebe484cf32322fa20": {
          "model_module": "@jupyter-widgets/controls",
          "model_name": "DescriptionStyleModel",
          "model_module_version": "1.5.0",
          "state": {
            "_model_module": "@jupyter-widgets/controls",
            "_model_module_version": "1.5.0",
            "_model_name": "DescriptionStyleModel",
            "_view_count": null,
            "_view_module": "@jupyter-widgets/base",
            "_view_module_version": "1.2.0",
            "_view_name": "StyleView",
            "description_width": ""
          }
        }
      }
    }
  },
  "cells": [
    {
      "cell_type": "code",
      "execution_count": null,
      "metadata": {
        "id": "KHhSLlt-66B0"
      },
      "outputs": [],
      "source": [
        "import os\n",
        "import torch\n",
        "import numpy as np\n",
        "torch_version = str(torch.__version__)\n",
        "scatter_src = f\"https://pytorch-geometric.com/whl/torch-{torch_version}.html\"\n",
        "sparse_src = f\"https://pytorch-geometric.com/whl/torch-{torch_version}.html\"\n",
        "!pip install torch-scatter -f $scatter_src\n",
        "!pip install torch-sparse -f $sparse_src\n",
        "!pip install torch-geometric\n",
        "\n",
        "import torch_sparse, torch_scatter\n",
        "import pandas as pd"
      ]
    },
    {
      "cell_type": "code",
      "source": [
        "!pip install decoupler omnipath anndata"
      ],
      "metadata": {
        "colab": {
          "base_uri": "https://localhost:8080/"
        },
        "id": "1l8JQY07oAMW",
        "outputId": "2522e84f-918c-4cbe-d227-bc5c4409ae23"
      },
      "execution_count": 2,
      "outputs": [
        {
          "output_type": "stream",
          "name": "stdout",
          "text": [
            "\u001b[31mERROR: pip's dependency resolver does not currently take into account all the packages that are installed. This behaviour is the source of the following dependency conflicts.\n",
            "cudf-cu12 24.4.1 requires pandas<2.2.2dev0,>=2.0, but you have pandas 2.2.2 which is incompatible.\n",
            "google-colab 1.0.0 requires pandas==2.0.3, but you have pandas 2.2.2 which is incompatible.\u001b[0m\u001b[31m\n",
            "\u001b[0mSuccessfully installed anndata-0.10.8 array-api-compat-1.7.1 decoupler-1.7.0 docrep-0.3.2 llvmlite-0.43.0 numba-0.60.0 omnipath-1.0.8 pandas-2.2.2\n"
          ]
        }
      ]
    },
    {
      "cell_type": "code",
      "execution_count": 3,
      "metadata": {
        "colab": {
          "base_uri": "https://localhost:8080/"
        },
        "id": "reeNALEw2brW",
        "outputId": "b84940f6-0931-46b0-9861-a3b5719d733f"
      },
      "outputs": [
        {
          "output_type": "stream",
          "name": "stdout",
          "text": [
            "Mounted at /content/drive\n"
          ]
        }
      ],
      "source": [
        "from google.colab import drive\n",
        "drive.mount('/content/drive')\n",
        "os.chdir(\"/content/drive/MyDrive/COLAB/CollecTRI\")"
      ]
    },
    {
      "cell_type": "code",
      "source": [
        "################################## CollecTRI ##################################\n",
        "# https://github.com/saezlab/CollecTRI\n",
        "\n",
        "# processed regulons\n",
        "import decoupler as dc\n",
        "net = dc.get_collectri(organism='human', split_complexes=False, load_meta=True)\n"
      ],
      "metadata": {
        "id": "8FAEsFjZ8gqW",
        "colab": {
          "base_uri": "https://localhost:8080/",
          "height": 639,
          "referenced_widgets": [
            "010f6403dc0d4092a59debcaf4391269",
            "e73db548be20447784f60fea2ac97a4f",
            "13fb09091bc045d59c10f7111e8ed733",
            "54c6d4088d8d48aebe3ef2d7a7d5d4f0",
            "44fe08cdbb8b4be8908800156765807f",
            "73c1611ec5b340dbb0fefea8906dea7f",
            "d7e21374b3fa41659191cce759793955",
            "f816301a373b4a5b90561099bb932af0",
            "8613f5c1526640fd8e1274973cd5cb75",
            "d969af636e344301bc984950fa1ce598",
            "5cf24001288d422f998cbc6bb6f8a57d",
            "2e9002c5d97945c6aaa23b892520e7eb",
            "cd9a3bfafb63412a9ed4bd341d31380e",
            "a023c501a3694101af825fa54a8f516b",
            "d1a8479767b64150873bf72a5283653d",
            "fa40e66294dc4f19937037c937c50f53",
            "5c1e3e679f6842d0a198c53ea38502a7",
            "fcf52838bca341bfba437405dd3750e0",
            "0a7dcf032ce747b2aca219a953571b71",
            "d9ffa7b614a24a36abf4c7753b4c815b",
            "3b653e511796413bb8939055e08958e5",
            "88e2c2926e04459ebe484cf32322fa20"
          ]
        },
        "outputId": "22a2b4a1-4772-4722-e2cb-efd67614b976"
      },
      "execution_count": 4,
      "outputs": [
        {
          "output_type": "stream",
          "name": "stderr",
          "text": [
            "WARNING:root:Traceback (most recent call last):\n",
            "  File \"/usr/local/lib/python3.10/dist-packages/decoupler/omnip.py\", line 587, in get_collectri\n",
            "    ct = op.interactions.CollecTRI.get(\n",
            "  File \"/usr/local/lib/python3.10/dist-packages/omnipath/_core/requests/_utils.py\", line 114, in wrapper\n",
            "    return wrapped(*args, **kwargs)\n",
            "  File \"/usr/local/lib/python3.10/dist-packages/omnipath/_core/requests/_utils.py\", line 31, in _get_helper\n",
            "    return cls()._get(**kwargs)\n",
            "  File \"/usr/local/lib/python3.10/dist-packages/omnipath/_core/requests/_request.py\", line 108, in _get\n",
            "    kwargs = self._validate_params(kwargs)\n",
            "  File \"/usr/local/lib/python3.10/dist-packages/omnipath/_core/requests/_request.py\", line 197, in _validate_params\n",
            "    res[self._query_type(k).param] = self._query_type(k)(v)\n",
            "  File \"/usr/local/lib/python3.10/dist-packages/omnipath/_core/query/_query.py\", line 136, in __call__\n",
            "    return self.value(value)\n",
            "  File \"/usr/local/lib/python3.10/dist-packages/omnipath/constants/_constants.py\", line 51, in __call__\n",
            "    return super().__call__(*args, **kw)\n",
            "  File \"/usr/lib/python3.10/enum.py\", line 385, in __call__\n",
            "    return cls.__new__(cls, value)\n",
            "  File \"/usr/local/lib/python3.10/dist-packages/omnipath/constants/_constants.py\", line 15, in wrapper\n",
            "    raise e\n",
            "  File \"/usr/local/lib/python3.10/dist-packages/omnipath/constants/_constants.py\", line 11, in wrapper\n",
            "    return fun(*args, **kwargs)\n",
            "  File \"/usr/lib/python3.10/enum.py\", line 710, in __new__\n",
            "    raise ve_exc\n",
            "ValueError: Invalid value `load_meta` for `InteractionsQuery`. Valid options are: `['header', 'headers', 'format', 'formats', 'license', 'licenses', 'password', 'passwords', 'limit', 'limits', 'dataset', 'datasets', 'type', 'types', 'source', 'sources', 'resource', 'resources', 'database', 'databases', 'target', 'targets', 'partner', 'partners', 'genesymbol', 'genesymbols', 'evidence', 'evidences', 'extra_attr', 'extra_attrs', 'field', 'fields', 'tfregulons_level', 'tfregulons_levels', 'tfregulons_method', 'tfregulons_methods', 'dorothea_level', 'dorothea_levels', 'dorothea_method', 'dorothea_methods', 'organism', 'organisms', 'source_target', 'source_targets', 'directed', 'directeds', 'signed', 'signeds', 'loop', 'loops', 'entity_type', 'entity_types']`.\n",
            "\n",
            "WARNING:root:Failed to download `CollecTRI` from OmniPath. Falling back to static tables. This is not the recommended way to access OmniPath; it is only a backup plan for situations when our server or your computer is experiencing issues.See the below traceback and the omnipath log for details.\n",
            "/usr/local/lib/python3.10/dist-packages/decoupler/_misc.py:22: UserWarning: Failed to download `CollecTRI` from OmniPath. Falling back to static tables. This is not the recommended way to access OmniPath; it is only a backup plan for situations when our server or your computer is experiencing issues.See the below traceback and the omnipath log for details.\n",
            "  warnings.warn(msg)\n",
            "WARNING:root:Accessing `CollecTRI` as a static table. This is not the recommended way to access OmniPath data; it is only a backup plan for situations when our server or your computer is experiencing issues.\n",
            "/usr/local/lib/python3.10/dist-packages/omnipath/_core/utils/_static.py:112: UserWarning: Accessing `CollecTRI` as a static table. This is not the recommended way to access OmniPath data; it is only a backup plan for situations when our server or your computer is experiencing issues.\n",
            "  warnings.warn(msg)  # noqa: B028\n"
          ]
        },
        {
          "output_type": "display_data",
          "data": {
            "text/plain": [
              "  0%|          | 0.00/2.43M [00:00<?, ?B/s]"
            ],
            "application/vnd.jupyter.widget-view+json": {
              "version_major": 2,
              "version_minor": 0,
              "model_id": "010f6403dc0d4092a59debcaf4391269"
            }
          },
          "metadata": {}
        },
        {
          "output_type": "display_data",
          "data": {
            "text/plain": [
              "0.00B [00:00, ?B/s]"
            ],
            "application/vnd.jupyter.widget-view+json": {
              "version_major": 2,
              "version_minor": 0,
              "model_id": "2e9002c5d97945c6aaa23b892520e7eb"
            }
          },
          "metadata": {}
        }
      ]
    },
    {
      "cell_type": "code",
      "source": [
        "# use protein sequence as input features\n",
        "feature_name = \"protein_embeddings_ProtEnc\"\n",
        "feature = pd.read_csv('/content/drive/MyDrive/COLAB/GENERAL_DATA/PROTEIN/protein_embeddings_ProtEnc.csv',index_col=0)\n"
      ],
      "metadata": {
        "id": "vZTySkNOeAqN"
      },
      "execution_count": 5,
      "outputs": []
    },
    {
      "cell_type": "markdown",
      "source": [],
      "metadata": {
        "id": "vq3wXJpm5Lx5"
      }
    },
    {
      "cell_type": "code",
      "source": [
        "df = net.copy()\n",
        "df.columns = [\"x_name\",\"y_name\", 'weight', 'PMID']\n",
        "\n",
        "# feature for x side\n",
        "common_elements = list(set(df['x_name']) & set(feature.index))\n",
        "df = df[df['x_name'].isin(common_elements)]\n",
        "feature_x = feature[feature.index.isin(common_elements)]\n",
        "\n",
        "## feature for y side\n",
        "common_elements = list(set(df['y_name']) & set(feature.index))\n",
        "df = df[df['y_name'].isin(common_elements)]\n",
        "feature_y = feature[feature.index.isin(common_elements)]\n",
        "\n",
        "\n",
        "# Create a mapping from unique x indices to range [0, num_x_nodes):\n",
        "unique_x_id = df['x_name'].unique()\n",
        "unique_x_id = pd.DataFrame(data={\n",
        "    'x_name': unique_x_id,\n",
        "    'mappedID': pd.RangeIndex(len(unique_x_id)),\n",
        "})\n",
        "# convert feature to tensor\n",
        "feature_x = feature_x.loc[unique_x_id['x_name'], :]\n",
        "feature_x = feature_x.reset_index()\n",
        "feature_x = feature_x.drop_duplicates(subset='gene')\n",
        "feature_x.index = feature_x.gene\n",
        "feature_x.drop(columns=['gene'], inplace=True)\n",
        "feature_x = feature_x.loc[:, (feature_x != 0).any(axis=0)]\n",
        "feature_x = torch.from_numpy(feature_x.values).float()\n",
        "\n",
        "# Create a mapping from unique y indices to range [0, num_y_nodes):\n",
        "unique_y_id = df['y_name'].unique()\n",
        "unique_y_id = pd.DataFrame(data={\n",
        "    'y_name': unique_y_id,\n",
        "    'mappedID_y': pd.RangeIndex(len(unique_y_id)),\n",
        "})\n",
        "# convert feature to tensor\n",
        "feature_y = feature_y.loc[unique_y_id['y_name'], :]\n",
        "feature_y = feature_y.reset_index()\n",
        "feature_y = feature_y.drop_duplicates(subset='gene')\n",
        "feature_y.index = feature_y.gene\n",
        "feature_y.drop(columns=['gene'], inplace=True)\n",
        "feature_y = feature_y.loc[:, (feature_y != 0).any(axis=0)]\n",
        "feature_y = torch.from_numpy(feature_y.values).float()\n",
        "\n",
        "\n",
        "# Perform merge to obtain the edges from x and y:\n",
        "df_x_name = pd.merge(df['x_name'], unique_x_id,on='x_name', how='left')\n",
        "df_x_name = torch.from_numpy(df_x_name['mappedID'].values)\n",
        "df_y_name = pd.merge(df['y_name'], unique_y_id,on='y_name', how='left')\n",
        "df_y_name = torch.from_numpy(df_y_name['mappedID_y'].values)\n",
        "\n",
        "# With this, we are ready to construct our `edge_index` in COO format\n",
        "# following PyG semantics:\n",
        "edge_index_x_to_y = torch.stack([df_x_name, df_y_name], dim=0)\n",
        "\n",
        "print()\n",
        "print(\"Final edge indices pointing from x to y:\")\n",
        "print(\"=================================================\")\n",
        "print(edge_index_x_to_y)\n"
      ],
      "metadata": {
        "colab": {
          "base_uri": "https://localhost:8080/"
        },
        "id": "-4v3gpYf-Brc",
        "outputId": "431e47a8-8459-4a26-9fb9-dddb6c9208f1"
      },
      "execution_count": 6,
      "outputs": [
        {
          "output_type": "stream",
          "name": "stdout",
          "text": [
            "\n",
            "Final edge indices pointing from x to y:\n",
            "=================================================\n",
            "tensor([[   0,    1,    2,  ...,   38,  320,   78],\n",
            "        [   0,    1,    1,  ..., 4360,   39, 4361]])\n"
          ]
        }
      ]
    },
    {
      "cell_type": "code",
      "source": [
        "df_x_name.shape\n",
        "df_y_name.shape\n",
        "edge_index_x_to_y.shape"
      ],
      "metadata": {
        "colab": {
          "base_uri": "https://localhost:8080/"
        },
        "id": "C3M50roiOdWL",
        "outputId": "d54de39f-99c7-4487-acd6-34a5781bc583"
      },
      "execution_count": 184,
      "outputs": [
        {
          "output_type": "execute_result",
          "data": {
            "text/plain": [
              "torch.Size([27106])"
            ]
          },
          "metadata": {},
          "execution_count": 184
        }
      ]
    },
    {
      "cell_type": "code",
      "source": [
        "from torch_geometric.data import HeteroData\n",
        "import torch_geometric.transforms as T\n",
        "\n",
        "data = HeteroData()\n",
        "\n",
        "# Save node indices:\n",
        "data[\"x_name\"].node_id = torch.arange(len(unique_x_id))\n",
        "data[\"y_name\"].node_id = torch.arange(len(unique_y_id))\n",
        "\n",
        "triplet_names = (\"x_name\", \"relation\", \"y_name\")\n",
        "triplet_names_rev = (\"y_name\", \"rev_relation\", \"x_name\")"
      ],
      "metadata": {
        "id": "xKtcnpsfI2eW"
      },
      "execution_count": 7,
      "outputs": []
    },
    {
      "cell_type": "code",
      "source": [
        "# Add the node features and edge indices:\n",
        "# The node feature could be added as appropriate !!!!!!!!!!!!\n",
        "data[\"x_name\"].x = feature_x\n",
        "data[\"y_name\"].x = feature_y\n",
        "data[triplet_names].edge_index = edge_index_x_to_y\n",
        "\n",
        "\n",
        "data = T.ToUndirected()(data)\n",
        "\n",
        "print(data)"
      ],
      "metadata": {
        "colab": {
          "base_uri": "https://localhost:8080/"
        },
        "id": "6c7Ke6kGI8Lo",
        "outputId": "dcdc7db4-ca19-4356-97ac-00c9b61c59af"
      },
      "execution_count": 8,
      "outputs": [
        {
          "output_type": "stream",
          "name": "stdout",
          "text": [
            "HeteroData(\n",
            "  x_name={\n",
            "    node_id=[961],\n",
            "    x=[961, 480],\n",
            "  },\n",
            "  y_name={\n",
            "    node_id=[4362],\n",
            "    x=[4362, 480],\n",
            "  },\n",
            "  (x_name, relation, y_name)={ edge_index=[2, 27106] },\n",
            "  (y_name, rev_relation, x_name)={ edge_index=[2, 27106] }\n",
            ")\n"
          ]
        }
      ]
    },
    {
      "cell_type": "code",
      "source": [
        "##############################  Defining Edge-level Training Splits ##############################\n",
        "\n",
        "# For this, we first split the set of edges into\n",
        "# training (80%), validation (10%), and testing edges (10%).\n",
        "# Across the training edges, we use 70% of edges for message passing (computing the embeddings of the nodes),\n",
        "\n",
        "# and 30% of edges for supervision (used as the label data to train the model)\n",
        "# The model learns to predict the existence (or absence) of these specific edges based on the node embeddings generated from the message-passing phase.\n",
        "\n",
        "# We further want to generate fixed negative edges for evaluation with a ratio of 2:1.\n",
        "# Negative edges during training will be generated on-the-fly, so we don't want to\n",
        "# add them to the graph right away.\n",
        "# Overall, we can leverage the `RandomLinkSplit()` transform for this from PyG:\n",
        "\n",
        "transform = T.RandomLinkSplit(\n",
        "    num_val=0.1,   # The percentage of edges in the validation set\n",
        "    num_test=0.1,  # The percentage of edges in the test set\n",
        "    disjoint_train_ratio=0.3,  # The percentage of edges used for supervision in the training set\n",
        "    neg_sampling_ratio=2,      # The ratio of negative to positive edges\n",
        "    add_negative_train_samples=False,  # False here means we will generate negative edges during training\n",
        "    edge_types=(triplet_names),\n",
        "    rev_edge_types=(triplet_names_rev),\n",
        ")\n",
        "\n",
        "train_data, val_data, test_data = transform(data)\n",
        "print(\"Training data:\")\n",
        "print(\"==============\")\n",
        "print(train_data)\n",
        "print()\n",
        "print(\"Validation data:\")\n",
        "print(\"================\")\n",
        "print(val_data)\n"
      ],
      "metadata": {
        "colab": {
          "base_uri": "https://localhost:8080/"
        },
        "id": "B1KEUWR-JDD5",
        "outputId": "05ce4dd2-66de-4522-a57f-9ea6b9b360a6"
      },
      "execution_count": 9,
      "outputs": [
        {
          "output_type": "stream",
          "name": "stdout",
          "text": [
            "Training data:\n",
            "==============\n",
            "HeteroData(\n",
            "  x_name={\n",
            "    node_id=[961],\n",
            "    x=[961, 480],\n",
            "  },\n",
            "  y_name={\n",
            "    node_id=[4362],\n",
            "    x=[4362, 480],\n",
            "  },\n",
            "  (x_name, relation, y_name)={\n",
            "    edge_index=[2, 15181],\n",
            "    edge_label=[6505],\n",
            "    edge_label_index=[2, 6505],\n",
            "  },\n",
            "  (y_name, rev_relation, x_name)={ edge_index=[2, 15181] }\n",
            ")\n",
            "\n",
            "Validation data:\n",
            "================\n",
            "HeteroData(\n",
            "  x_name={\n",
            "    node_id=[961],\n",
            "    x=[961, 480],\n",
            "  },\n",
            "  y_name={\n",
            "    node_id=[4362],\n",
            "    x=[4362, 480],\n",
            "  },\n",
            "  (x_name, relation, y_name)={\n",
            "    edge_index=[2, 21686],\n",
            "    edge_label=[8130],\n",
            "    edge_label_index=[2, 8130],\n",
            "  },\n",
            "  (y_name, rev_relation, x_name)={ edge_index=[2, 21686] }\n",
            ")\n"
          ]
        }
      ]
    },
    {
      "cell_type": "code",
      "source": [
        "import numpy as np\n",
        "# check values\n",
        "test_data[triplet_names].edge_label_index[ 0 , :]"
      ],
      "metadata": {
        "colab": {
          "base_uri": "https://localhost:8080/"
        },
        "id": "QEBDH4KH3gXU",
        "outputId": "944930d7-12e6-4bab-94cb-213b07b876d3"
      },
      "execution_count": 256,
      "outputs": [
        {
          "output_type": "execute_result",
          "data": {
            "text/plain": [
              "tensor([447, 285, 166,  ..., 717, 815, 170])"
            ]
          },
          "metadata": {},
          "execution_count": 256
        }
      ]
    },
    {
      "cell_type": "code",
      "source": [
        "torch.max( (test_data[triplet_names].edge_label_index[ 0 , :]) )"
      ],
      "metadata": {
        "colab": {
          "base_uri": "https://localhost:8080/"
        },
        "id": "xKPBvw0I3-7E",
        "outputId": "d8969a7e-3d3c-47b9-e134-f6a882169949"
      },
      "execution_count": 139,
      "outputs": [
        {
          "output_type": "execute_result",
          "data": {
            "text/plain": [
              "tensor(960)"
            ]
          },
          "metadata": {},
          "execution_count": 139
        }
      ]
    },
    {
      "cell_type": "code",
      "source": [
        "torch.max( (test_data[triplet_names].edge_label_index[ 1 , :]) )"
      ],
      "metadata": {
        "colab": {
          "base_uri": "https://localhost:8080/"
        },
        "id": "WfOn5E6G3_KY",
        "outputId": "df173f68-cfc3-40c5-f382-6136c0eef269"
      },
      "execution_count": 145,
      "outputs": [
        {
          "output_type": "execute_result",
          "data": {
            "text/plain": [
              "tensor(4360)"
            ]
          },
          "metadata": {},
          "execution_count": 145
        }
      ]
    },
    {
      "cell_type": "code",
      "source": [
        "torch.max( test_data[triplet_names].edge_index[ 1 , :] )"
      ],
      "metadata": {
        "colab": {
          "base_uri": "https://localhost:8080/"
        },
        "id": "euJ-ECYD3_Tw",
        "outputId": "d3164c49-2fb4-45a5-c203-26fd69c3b841"
      },
      "execution_count": 150,
      "outputs": [
        {
          "output_type": "execute_result",
          "data": {
            "text/plain": [
              "tensor(4361)"
            ]
          },
          "metadata": {},
          "execution_count": 150
        }
      ]
    },
    {
      "cell_type": "code",
      "source": [
        "torch.unique(test_data[triplet_names].edge_index, return_counts=True)"
      ],
      "metadata": {
        "colab": {
          "base_uri": "https://localhost:8080/"
        },
        "id": "dv3vgt6XR7sf",
        "outputId": "360a7c82-52fe-4205-a62e-24fc70a9802b"
      },
      "execution_count": 148,
      "outputs": [
        {
          "output_type": "execute_result",
          "data": {
            "text/plain": [
              "(tensor([   0,    1,    2,  ..., 4359, 4360, 4361]),\n",
              " tensor([316, 209, 190,  ...,   1,   1,   1]))"
            ]
          },
          "metadata": {},
          "execution_count": 148
        }
      ]
    },
    {
      "cell_type": "code",
      "source": [
        "torch.unique(test_data[triplet_names].edge_label_index, return_counts=True)"
      ],
      "metadata": {
        "colab": {
          "base_uri": "https://localhost:8080/"
        },
        "id": "v99wtphD49ip",
        "outputId": "45312097-a51c-4fe8-b7b1-5986ae67a73b"
      },
      "execution_count": 149,
      "outputs": [
        {
          "output_type": "execute_result",
          "data": {
            "text/plain": [
              "(tensor([   0,    1,    2,  ..., 4358, 4359, 4360]),\n",
              " tensor([48, 32, 22,  ...,  4,  1,  1]))"
            ]
          },
          "metadata": {},
          "execution_count": 149
        }
      ]
    },
    {
      "cell_type": "code",
      "source": [
        "# ground truth.\n",
        "test_data[triplet_names].edge_label\n",
        "#torch.unique(test_data[triplet_names].edge_label, return_counts=True)"
      ],
      "metadata": {
        "colab": {
          "base_uri": "https://localhost:8080/"
        },
        "id": "bg69Bas9SUqV",
        "outputId": "44fed493-22d9-4a3c-c96e-1ebce3e7d5d6"
      },
      "execution_count": 98,
      "outputs": [
        {
          "output_type": "execute_result",
          "data": {
            "text/plain": [
              "tensor([1., 1., 1.,  ..., 0., 0., 0.])"
            ]
          },
          "metadata": {},
          "execution_count": 98
        }
      ]
    },
    {
      "cell_type": "code",
      "source": [
        "len(test_data[triplet_names].edge_label)"
      ],
      "metadata": {
        "colab": {
          "base_uri": "https://localhost:8080/"
        },
        "id": "2bKakaK0R8JH",
        "outputId": "e6748660-e278-4fd1-dbf7-75ba9a5f25a9"
      },
      "execution_count": 99,
      "outputs": [
        {
          "output_type": "execute_result",
          "data": {
            "text/plain": [
              "8130"
            ]
          },
          "metadata": {},
          "execution_count": 99
        }
      ]
    },
    {
      "cell_type": "code",
      "source": [
        "# ground truth.\n",
        "edge_index_x_to_y[:, edge_index_x_to_y[1, :] == 33 ]"
      ],
      "metadata": {
        "colab": {
          "base_uri": "https://localhost:8080/"
        },
        "id": "O94celpVd7eY",
        "outputId": "8d0bc310-109a-4962-8412-99b2fdb55175"
      },
      "execution_count": 118,
      "outputs": [
        {
          "output_type": "execute_result",
          "data": {
            "text/plain": [
              "tensor([[ 35,  36,  37,  38, 146, 210, 269,  60, 549, 277, 177,  27, 352,   5,\n",
              "         214,  41, 107,  89, 273, 410, 161, 425,  29, 165, 192,  39,   0,  87,\n",
              "          78, 696, 266],\n",
              "        [ 33,  33,  33,  33,  33,  33,  33,  33,  33,  33,  33,  33,  33,  33,\n",
              "          33,  33,  33,  33,  33,  33,  33,  33,  33,  33,  33,  33,  33,  33,\n",
              "          33,  33,  33]])"
            ]
          },
          "metadata": {},
          "execution_count": 118
        }
      ]
    },
    {
      "cell_type": "code",
      "source": [
        "# What is this ??? positive link are not present\n",
        "test_edge_index = test_data[triplet_names].edge_index\n",
        "test_edge_index[:, test_edge_index[1, :] == 33 ]"
      ],
      "metadata": {
        "colab": {
          "base_uri": "https://localhost:8080/"
        },
        "id": "HgzwvKE7uEgC",
        "outputId": "f5a98de4-7ccd-48b6-c544-e4a7dec585ec"
      },
      "execution_count": 121,
      "outputs": [
        {
          "output_type": "execute_result",
          "data": {
            "text/plain": [
              "tensor([[277, 273, 107, 549, 146,  29,  89, 269, 161,  36,  41, 352,  37,  38,\n",
              "         425, 210,   0,   5, 165, 192,  87,  78, 177,  60,  27, 410,  39, 266],\n",
              "        [ 33,  33,  33,  33,  33,  33,  33,  33,  33,  33,  33,  33,  33,  33,\n",
              "          33,  33,  33,  33,  33,  33,  33,  33,  33,  33,  33,  33,  33,  33]])"
            ]
          },
          "metadata": {},
          "execution_count": 121
        }
      ]
    },
    {
      "cell_type": "code",
      "source": [
        "############################## Defining Mini-batch Loaders ##############################\n",
        "\n",
        "# In the first hop, we sample at most 20 neighbors.\n",
        "# In the second hop, we sample at most 10 neighbors.\n",
        "# In addition, during training, we want to sample negative edges on-the-fly with\n",
        "# a ratio of 2:1.\n",
        "# We can make use of the `loader.LinkNeighborLoader` from PyG:\n",
        "from torch_geometric.loader import LinkNeighborLoader\n",
        "\n",
        "# Define seed edges:\n",
        "edge_label_index = train_data[triplet_names].edge_label_index\n",
        "edge_label = train_data[triplet_names].edge_label\n",
        "\n",
        "train_loader = LinkNeighborLoader(\n",
        "    data=train_data,\n",
        "    num_neighbors=[20, 10],\n",
        "    neg_sampling_ratio=2,\n",
        "    edge_label_index=(triplet_names, edge_label_index),\n",
        "    edge_label=edge_label,\n",
        "    batch_size=128,\n",
        "    shuffle=True,\n",
        ")\n",
        "\n",
        "# Inspect a sample:\n",
        "sampled_data = next(iter(train_loader))\n",
        "\n",
        "print(\"Sampled mini-batch:\")\n",
        "print(\"===================\")\n",
        "print(sampled_data)"
      ],
      "metadata": {
        "colab": {
          "base_uri": "https://localhost:8080/"
        },
        "id": "1Wn0BbI3JEVo",
        "outputId": "f4b2cdd8-6682-4c15-c956-3fa79b06c723"
      },
      "execution_count": 10,
      "outputs": [
        {
          "output_type": "stream",
          "name": "stdout",
          "text": [
            "Sampled mini-batch:\n",
            "===================\n",
            "HeteroData(\n",
            "  x_name={\n",
            "    node_id=[806],\n",
            "    x=[806, 480],\n",
            "    n_id=[806],\n",
            "  },\n",
            "  y_name={\n",
            "    node_id=[2116],\n",
            "    x=[2116, 480],\n",
            "    n_id=[2116],\n",
            "  },\n",
            "  (x_name, relation, y_name)={\n",
            "    edge_index=[2, 8209],\n",
            "    edge_label=[384],\n",
            "    edge_label_index=[2, 384],\n",
            "    e_id=[8209],\n",
            "    input_id=[128],\n",
            "  },\n",
            "  (y_name, rev_relation, x_name)={\n",
            "    edge_index=[2, 5115],\n",
            "    e_id=[5115],\n",
            "  }\n",
            ")\n"
          ]
        },
        {
          "output_type": "stream",
          "name": "stderr",
          "text": [
            "/usr/local/lib/python3.10/dist-packages/torch_geometric/sampler/neighbor_sampler.py:61: UserWarning: Using 'NeighborSampler' without a 'pyg-lib' installation is deprecated and will be removed soon. Please install 'pyg-lib' for accelerated neighborhood sampling\n",
            "  warnings.warn(f\"Using '{self.__class__.__name__}' without a \"\n"
          ]
        }
      ]
    },
    {
      "cell_type": "code",
      "source": [
        "################################# Creating a Heterogeneous Link-level GNN #################################\n",
        "\n",
        "from torch_geometric.nn import SAGEConv, to_hetero\n",
        "from torch import Tensor\n",
        "\n",
        "class GNN(torch.nn.Module):\n",
        "    def __init__(self, hidden_channels):\n",
        "        super().__init__()\n",
        "\n",
        "        self.conv1 = SAGEConv(hidden_channels, hidden_channels)\n",
        "        self.conv2 = SAGEConv(hidden_channels, hidden_channels)\n",
        "\n",
        "    def forward(self, x: Tensor, edge_index: Tensor) -> Tensor:\n",
        "        # Define a 2-layer GNN computation graph. Neighborhood depth K is 2.\n",
        "        # Use a single `ReLU` non-linearity in-between. why doing this ?\n",
        "        x = self.conv1(x, edge_index)\n",
        "        x = x.relu()\n",
        "        x = self.conv2(x, edge_index)\n",
        "        return x\n",
        "\n",
        "# Our final classifier applies the dot-product between source and destination\n",
        "# node embeddings to derive edge-level predictions:\n",
        "class Classifier(torch.nn.Module):\n",
        "    def forward(self, x_source: Tensor, x_target: Tensor, edge_label_index: Tensor) -> Tensor:\n",
        "        # Convert node embeddings to edge-level representations:\n",
        "        edge_feat_source = x_source[edge_label_index[0]]\n",
        "        edge_feat_target = x_target[edge_label_index[1]]\n",
        "\n",
        "        # Apply dot-product to get a prediction per supervision edge:\n",
        "        return (edge_feat_source * edge_feat_target).sum(dim=-1)\n",
        "\n",
        "\n",
        "class Model(torch.nn.Module):\n",
        "    def __init__(self, hidden_channels):\n",
        "        super().__init__()\n",
        "        # Since the dataset does not come with rich features, we also learn two\n",
        "        # embedding matrices for source and target nodes:\n",
        "        self.source_lin = torch.nn.Linear(data[\"x_name\"].x.shape[1], hidden_channels)\n",
        "        self.target_lin = torch.nn.Linear(data[\"y_name\"].x.shape[1], hidden_channels)\n",
        "\n",
        "        self.source_emb = torch.nn.Embedding(data[\"x_name\"].num_nodes, hidden_channels)\n",
        "        self.target_emb = torch.nn.Embedding(data[\"y_name\"].num_nodes, hidden_channels)\n",
        "\n",
        "        # Instantiate homogeneous GNN:\n",
        "        self.gnn = GNN(hidden_channels)\n",
        "        # Convert GNN model into a heterogeneous variant:\n",
        "        self.gnn = to_hetero(self.gnn, metadata=data.metadata())\n",
        "        # Instantiate edge-level classifier:\n",
        "        self.classifier = Classifier()\n",
        "\n",
        "    def forward(self, data: HeteroData) -> Tensor:\n",
        "        x_dict = {\n",
        "          #\"x_name\": self.source_emb(data[\"x_name\"].node_id),\n",
        "          \"x_name\": self.source_lin(data[\"x_name\"].x)  + self.source_emb(data[\"x_name\"].node_id),\n",
        "          #\"y_name\": self.target_emb(data[\"y_name\"].node_id),\n",
        "          \"y_name\": self.target_lin(data[\"y_name\"].x) + self.target_emb(data[\"y_name\"].node_id),\n",
        "        }\n",
        "        # `x_dict` holds feature matrices of all node types\n",
        "        # `edge_index_dict` holds all edge indices of all edge types\n",
        "        x_dict = self.gnn(x_dict, data.edge_index_dict)\n",
        "\n",
        "        # Apply final classifier to derive edge-level predictions:\n",
        "        pred = self.classifier(\n",
        "            x_dict[\"x_name\"],\n",
        "            x_dict[\"y_name\"],\n",
        "            data[triplet_names].edge_label_index,\n",
        "        )\n",
        "\n",
        "        return pred\n",
        "\n",
        "\n"
      ],
      "metadata": {
        "id": "e3vPb7RNJJpk"
      },
      "execution_count": 11,
      "outputs": []
    },
    {
      "cell_type": "code",
      "source": [
        "################################ Training a Heterogeneous Link-level GNN ################################\n",
        "\n",
        "import tqdm\n",
        "import torch.nn.functional as F\n",
        "\n",
        "model = Model(hidden_channels=64)\n",
        "print(model)\n",
        "\n",
        "device = torch.device('cuda' if torch.cuda.is_available() else 'cpu')\n",
        "print(f\"Device: '{device}'\")\n",
        "\n",
        "model = model.to(device)\n",
        "optimizer = torch.optim.Adam(model.parameters(), lr=0.01)\n",
        "\n",
        "\n",
        "for epoch in range(1, 10):\n",
        "    total_loss = total_examples = 0\n",
        "    for sampled_data in tqdm.tqdm(train_loader):\n",
        "        optimizer.zero_grad()\n",
        "\n",
        "        sampled_data = sampled_data.to(device)  # moving to device\n",
        "        pred = model(sampled_data)  # forward pass\n",
        "        # `F.binary_cross_entropy_with_logits(pred, ground_truth)`\n",
        "        ground_truth = sampled_data[(triplet_names)]['edge_label']\n",
        "        loss = F.binary_cross_entropy_with_logits(pred, ground_truth)  # BCE loss\n",
        "\n",
        "        loss.backward()\n",
        "        optimizer.step()\n",
        "        total_loss += float(loss) * pred.numel()\n",
        "        total_examples += pred.numel()\n",
        "    print(f\"Epoch: {epoch:03d}, Loss: {total_loss / total_examples:.4f}\")\n",
        "\n",
        "# at this point the model is already trained based on training set.\n",
        "torch.save(model, 'model/model_CollecTRI.pt')\n"
      ],
      "metadata": {
        "colab": {
          "base_uri": "https://localhost:8080/"
        },
        "id": "TwNcFe8MJSxf",
        "outputId": "2ff91487-8434-4239-9cac-0950f6587816"
      },
      "execution_count": 12,
      "outputs": [
        {
          "output_type": "stream",
          "name": "stdout",
          "text": [
            "Model(\n",
            "  (source_lin): Linear(in_features=480, out_features=64, bias=True)\n",
            "  (target_lin): Linear(in_features=480, out_features=64, bias=True)\n",
            "  (source_emb): Embedding(961, 64)\n",
            "  (target_emb): Embedding(4362, 64)\n",
            "  (gnn): GraphModule(\n",
            "    (conv1): ModuleDict(\n",
            "      (x_name__relation__y_name): SAGEConv(64, 64, aggr=mean)\n",
            "      (y_name__rev_relation__x_name): SAGEConv(64, 64, aggr=mean)\n",
            "    )\n",
            "    (conv2): ModuleDict(\n",
            "      (x_name__relation__y_name): SAGEConv(64, 64, aggr=mean)\n",
            "      (y_name__rev_relation__x_name): SAGEConv(64, 64, aggr=mean)\n",
            "    )\n",
            "  )\n",
            "  (classifier): Classifier()\n",
            ")\n",
            "Device: 'cuda'\n"
          ]
        },
        {
          "output_type": "stream",
          "name": "stderr",
          "text": [
            "100%|██████████| 51/51 [00:02<00:00, 20.05it/s]\n"
          ]
        },
        {
          "output_type": "stream",
          "name": "stdout",
          "text": [
            "Epoch: 001, Loss: 0.6569\n"
          ]
        },
        {
          "output_type": "stream",
          "name": "stderr",
          "text": [
            "100%|██████████| 51/51 [00:01<00:00, 42.98it/s]\n"
          ]
        },
        {
          "output_type": "stream",
          "name": "stdout",
          "text": [
            "Epoch: 002, Loss: 0.4871\n"
          ]
        },
        {
          "output_type": "stream",
          "name": "stderr",
          "text": [
            "100%|██████████| 51/51 [00:01<00:00, 42.89it/s]\n"
          ]
        },
        {
          "output_type": "stream",
          "name": "stdout",
          "text": [
            "Epoch: 003, Loss: 0.4310\n"
          ]
        },
        {
          "output_type": "stream",
          "name": "stderr",
          "text": [
            "100%|██████████| 51/51 [00:01<00:00, 41.50it/s]\n"
          ]
        },
        {
          "output_type": "stream",
          "name": "stdout",
          "text": [
            "Epoch: 004, Loss: 0.3915\n"
          ]
        },
        {
          "output_type": "stream",
          "name": "stderr",
          "text": [
            "100%|██████████| 51/51 [00:01<00:00, 41.55it/s]\n"
          ]
        },
        {
          "output_type": "stream",
          "name": "stdout",
          "text": [
            "Epoch: 005, Loss: 0.3658\n"
          ]
        },
        {
          "output_type": "stream",
          "name": "stderr",
          "text": [
            "100%|██████████| 51/51 [00:01<00:00, 43.17it/s]\n"
          ]
        },
        {
          "output_type": "stream",
          "name": "stdout",
          "text": [
            "Epoch: 006, Loss: 0.3528\n"
          ]
        },
        {
          "output_type": "stream",
          "name": "stderr",
          "text": [
            "100%|██████████| 51/51 [00:01<00:00, 41.40it/s]\n"
          ]
        },
        {
          "output_type": "stream",
          "name": "stdout",
          "text": [
            "Epoch: 007, Loss: 0.3302\n"
          ]
        },
        {
          "output_type": "stream",
          "name": "stderr",
          "text": [
            "100%|██████████| 51/51 [00:01<00:00, 40.00it/s]\n"
          ]
        },
        {
          "output_type": "stream",
          "name": "stdout",
          "text": [
            "Epoch: 008, Loss: 0.3204\n"
          ]
        },
        {
          "output_type": "stream",
          "name": "stderr",
          "text": [
            "100%|██████████| 51/51 [00:01<00:00, 41.56it/s]\n"
          ]
        },
        {
          "output_type": "stream",
          "name": "stdout",
          "text": [
            "Epoch: 009, Loss: 0.3136\n"
          ]
        }
      ]
    },
    {
      "cell_type": "code",
      "source": [
        "################################ Evaluating a Heterogeneous Link-level GNN ################################\n",
        "\n",
        "# load model\n",
        "model = torch.load('model/model_CollecTRI.pt')\n",
        "\n",
        "# Define the validation seed edges:\n",
        "edge_label_index = val_data[triplet_names].edge_label_index\n",
        "edge_label = val_data[triplet_names].edge_label\n",
        "\n",
        "val_loader = LinkNeighborLoader(\n",
        "    data=val_data,\n",
        "    num_neighbors=[20, 10],\n",
        "    edge_label_index=((triplet_names), edge_label_index),\n",
        "    edge_label=edge_label,\n",
        "    batch_size=3 * 128,\n",
        "    shuffle=False,\n",
        ")\n",
        "\n",
        "sampled_data = next(iter(val_loader))\n",
        "\n",
        "print(\"Sampled mini-batch:\")\n",
        "print(\"===================\")\n",
        "print(sampled_data)\n",
        "\n",
        "\n",
        "from sklearn.metrics import roc_auc_score\n",
        "\n",
        "preds = []\n",
        "ground_truths = []\n",
        "for sampled_data in tqdm.tqdm(val_loader):\n",
        "    with torch.no_grad():\n",
        "\n",
        "        pred = model(sampled_data.to(device))\n",
        "        preds.append(pred)\n",
        "\n",
        "        ground_truth = sampled_data[(triplet_names)]['edge_label']\n",
        "        ground_truths.append(ground_truth)\n",
        "\n",
        "pred = torch.cat(preds, dim=0).cpu().numpy()\n",
        "ground_truth = torch.cat(ground_truths, dim=0).cpu().numpy()\n",
        "auc = roc_auc_score(ground_truth, pred)\n",
        "print(f\"Validation AUC: {auc:.4f}\")"
      ],
      "metadata": {
        "colab": {
          "base_uri": "https://localhost:8080/"
        },
        "id": "j2lW8FnDJxX3",
        "outputId": "400e37c8-a2bb-4c72-a0d1-d84fd1f5a814"
      },
      "execution_count": 13,
      "outputs": [
        {
          "output_type": "stream",
          "name": "stdout",
          "text": [
            "Sampled mini-batch:\n",
            "===================\n",
            "HeteroData(\n",
            "  x_name={\n",
            "    node_id=[814],\n",
            "    x=[814, 480],\n",
            "    n_id=[814],\n",
            "  },\n",
            "  y_name={\n",
            "    node_id=[2304],\n",
            "    x=[2304, 480],\n",
            "    n_id=[2304],\n",
            "  },\n",
            "  (x_name, relation, y_name)={\n",
            "    edge_index=[2, 11227],\n",
            "    edge_label=[384],\n",
            "    edge_label_index=[2, 384],\n",
            "    e_id=[11227],\n",
            "    input_id=[384],\n",
            "  },\n",
            "  (y_name, rev_relation, x_name)={\n",
            "    edge_index=[2, 6373],\n",
            "    e_id=[6373],\n",
            "  }\n",
            ")\n"
          ]
        },
        {
          "output_type": "stream",
          "name": "stderr",
          "text": [
            "100%|██████████| 22/22 [00:00<00:00, 42.10it/s]"
          ]
        },
        {
          "output_type": "stream",
          "name": "stdout",
          "text": [
            "Validation AUC: 0.8647\n"
          ]
        },
        {
          "output_type": "stream",
          "name": "stderr",
          "text": [
            "\n"
          ]
        }
      ]
    },
    {
      "cell_type": "code",
      "source": [
        "val_data"
      ],
      "metadata": {
        "colab": {
          "base_uri": "https://localhost:8080/"
        },
        "id": "no3iPVEvITb9",
        "outputId": "c486a4cc-f26b-4c5a-bf4f-867b03ef8546"
      },
      "execution_count": 14,
      "outputs": [
        {
          "output_type": "execute_result",
          "data": {
            "text/plain": [
              "HeteroData(\n",
              "  x_name={\n",
              "    node_id=[961],\n",
              "    x=[961, 480],\n",
              "  },\n",
              "  y_name={\n",
              "    node_id=[4362],\n",
              "    x=[4362, 480],\n",
              "  },\n",
              "  (x_name, relation, y_name)={\n",
              "    edge_index=[2, 21686],\n",
              "    edge_label=[8130],\n",
              "    edge_label_index=[2, 8130],\n",
              "  },\n",
              "  (y_name, rev_relation, x_name)={ edge_index=[2, 21686] }\n",
              ")"
            ]
          },
          "metadata": {},
          "execution_count": 14
        }
      ]
    },
    {
      "cell_type": "code",
      "source": [
        "np.max( df_x_name.tolist() )\n",
        "np.max( df_y_name.tolist() )"
      ],
      "metadata": {
        "colab": {
          "base_uri": "https://localhost:8080/"
        },
        "id": "1apOSot1O_bN",
        "outputId": "778c53dd-5254-4e43-a38d-8bd193e7e7a5"
      },
      "execution_count": 17,
      "outputs": [
        {
          "output_type": "execute_result",
          "data": {
            "text/plain": [
              "4361"
            ]
          },
          "metadata": {},
          "execution_count": 17
        }
      ]
    },
    {
      "cell_type": "code",
      "source": [
        "# assess performance on test set\n",
        "\n",
        "H_data = val_data\n",
        "\n",
        "pred = model(H_data.to(device)).tolist()\n",
        "ground_truth = H_data[(triplet_names)]['edge_label'].tolist()\n",
        "\n",
        "auc = roc_auc_score(ground_truth, pred)\n",
        "print(f\"Validation AUC: {auc:.4f}\")"
      ],
      "metadata": {
        "colab": {
          "base_uri": "https://localhost:8080/"
        },
        "id": "FV-8PXdkIfU5",
        "outputId": "d73947e1-3324-4699-8202-f9ba787d30f7"
      },
      "execution_count": 224,
      "outputs": [
        {
          "output_type": "stream",
          "name": "stdout",
          "text": [
            "Validation AUC: 0.8604\n"
          ]
        }
      ]
    },
    {
      "cell_type": "code",
      "source": [
        "H_data"
      ],
      "metadata": {
        "colab": {
          "base_uri": "https://localhost:8080/"
        },
        "id": "8hnXySQuWN3O",
        "outputId": "ac7b2cfa-9f68-430a-905f-663a7a58e302"
      },
      "execution_count": 243,
      "outputs": [
        {
          "output_type": "execute_result",
          "data": {
            "text/plain": [
              "HeteroData(\n",
              "  x_name={\n",
              "    node_id=[961],\n",
              "    x=[961, 480],\n",
              "  },\n",
              "  y_name={\n",
              "    node_id=[4362],\n",
              "    x=[4362, 480],\n",
              "  },\n",
              "  (x_name, relation, y_name)={\n",
              "    edge_index=[2, 21686],\n",
              "    edge_label=0,\n",
              "    edge_label_index=[2, 8130],\n",
              "  },\n",
              "  (y_name, rev_relation, x_name)={ edge_index=[2, 21686] }\n",
              ")"
            ]
          },
          "metadata": {},
          "execution_count": 243
        }
      ]
    },
    {
      "cell_type": "code",
      "source": [
        "import copy\n",
        "H_data = copy.deepcopy(val_data)\n",
        "H_data[triplet_names].edge_label = 0\n",
        "pred = model(H_data.to(device)).tolist()\n",
        "pred[0:10]"
      ],
      "metadata": {
        "colab": {
          "base_uri": "https://localhost:8080/",
          "height": 391
        },
        "id": "hVogYJdRSruT",
        "outputId": "c8c80a71-8aa3-4ff6-f67d-f47166a900be"
      },
      "execution_count": 33,
      "outputs": [
        {
          "output_type": "error",
          "ename": "RuntimeError",
          "evalue": "CUDA error: device-side assert triggered\nCUDA kernel errors might be asynchronously reported at some other API call, so the stacktrace below might be incorrect.\nFor debugging consider passing CUDA_LAUNCH_BLOCKING=1.\nCompile with `TORCH_USE_CUDA_DSA` to enable device-side assertions.\n",
          "traceback": [
            "\u001b[0;31m---------------------------------------------------------------------------\u001b[0m",
            "\u001b[0;31mRuntimeError\u001b[0m                              Traceback (most recent call last)",
            "\u001b[0;32m<ipython-input-33-86439679c0b9>\u001b[0m in \u001b[0;36m<cell line: 4>\u001b[0;34m()\u001b[0m\n\u001b[1;32m      2\u001b[0m \u001b[0mH_data\u001b[0m \u001b[0;34m=\u001b[0m \u001b[0mcopy\u001b[0m\u001b[0;34m.\u001b[0m\u001b[0mdeepcopy\u001b[0m\u001b[0;34m(\u001b[0m\u001b[0mval_data\u001b[0m\u001b[0;34m)\u001b[0m\u001b[0;34m\u001b[0m\u001b[0;34m\u001b[0m\u001b[0m\n\u001b[1;32m      3\u001b[0m \u001b[0mH_data\u001b[0m\u001b[0;34m[\u001b[0m\u001b[0mtriplet_names\u001b[0m\u001b[0;34m]\u001b[0m\u001b[0;34m.\u001b[0m\u001b[0medge_label\u001b[0m \u001b[0;34m=\u001b[0m \u001b[0;36m0\u001b[0m\u001b[0;34m\u001b[0m\u001b[0;34m\u001b[0m\u001b[0m\n\u001b[0;32m----> 4\u001b[0;31m \u001b[0mpred\u001b[0m \u001b[0;34m=\u001b[0m \u001b[0mmodel\u001b[0m\u001b[0;34m(\u001b[0m\u001b[0mH_data\u001b[0m\u001b[0;34m.\u001b[0m\u001b[0mto\u001b[0m\u001b[0;34m(\u001b[0m\u001b[0mdevice\u001b[0m\u001b[0;34m)\u001b[0m\u001b[0;34m)\u001b[0m\u001b[0;34m.\u001b[0m\u001b[0mtolist\u001b[0m\u001b[0;34m(\u001b[0m\u001b[0;34m)\u001b[0m\u001b[0;34m\u001b[0m\u001b[0;34m\u001b[0m\u001b[0m\n\u001b[0m\u001b[1;32m      5\u001b[0m \u001b[0mpred\u001b[0m\u001b[0;34m[\u001b[0m\u001b[0;36m0\u001b[0m\u001b[0;34m:\u001b[0m\u001b[0;36m10\u001b[0m\u001b[0;34m]\u001b[0m\u001b[0;34m\u001b[0m\u001b[0;34m\u001b[0m\u001b[0m\n",
            "\u001b[0;32m/usr/local/lib/python3.10/dist-packages/torch_geometric/data/data.py\u001b[0m in \u001b[0;36mto\u001b[0;34m(self, device, non_blocking, *args)\u001b[0m\n\u001b[1;32m    358\u001b[0m         \u001b[0monly\u001b[0m \u001b[0mthe\u001b[0m \u001b[0mones\u001b[0m \u001b[0mgiven\u001b[0m \u001b[0;32min\u001b[0m \u001b[0;34m:\u001b[0m\u001b[0mobj\u001b[0m\u001b[0;34m:\u001b[0m\u001b[0;31m`\u001b[0m\u001b[0;34m*\u001b[0m\u001b[0margs\u001b[0m\u001b[0;31m`\u001b[0m\u001b[0;34m.\u001b[0m\u001b[0;34m\u001b[0m\u001b[0;34m\u001b[0m\u001b[0m\n\u001b[1;32m    359\u001b[0m         \"\"\"\n\u001b[0;32m--> 360\u001b[0;31m         return self.apply(\n\u001b[0m\u001b[1;32m    361\u001b[0m             lambda x: x.to(device=device, non_blocking=non_blocking), *args)\n\u001b[1;32m    362\u001b[0m \u001b[0;34m\u001b[0m\u001b[0m\n",
            "\u001b[0;32m/usr/local/lib/python3.10/dist-packages/torch_geometric/data/data.py\u001b[0m in \u001b[0;36mapply\u001b[0;34m(self, func, *args)\u001b[0m\n\u001b[1;32m    338\u001b[0m         \"\"\"\n\u001b[1;32m    339\u001b[0m         \u001b[0;32mfor\u001b[0m \u001b[0mstore\u001b[0m \u001b[0;32min\u001b[0m \u001b[0mself\u001b[0m\u001b[0;34m.\u001b[0m\u001b[0mstores\u001b[0m\u001b[0;34m:\u001b[0m\u001b[0;34m\u001b[0m\u001b[0;34m\u001b[0m\u001b[0m\n\u001b[0;32m--> 340\u001b[0;31m             \u001b[0mstore\u001b[0m\u001b[0;34m.\u001b[0m\u001b[0mapply\u001b[0m\u001b[0;34m(\u001b[0m\u001b[0mfunc\u001b[0m\u001b[0;34m,\u001b[0m \u001b[0;34m*\u001b[0m\u001b[0margs\u001b[0m\u001b[0;34m)\u001b[0m\u001b[0;34m\u001b[0m\u001b[0;34m\u001b[0m\u001b[0m\n\u001b[0m\u001b[1;32m    341\u001b[0m         \u001b[0;32mreturn\u001b[0m \u001b[0mself\u001b[0m\u001b[0;34m\u001b[0m\u001b[0;34m\u001b[0m\u001b[0m\n\u001b[1;32m    342\u001b[0m \u001b[0;34m\u001b[0m\u001b[0m\n",
            "\u001b[0;32m/usr/local/lib/python3.10/dist-packages/torch_geometric/data/storage.py\u001b[0m in \u001b[0;36mapply\u001b[0;34m(self, func, *args)\u001b[0m\n\u001b[1;32m    199\u001b[0m         \"\"\"\n\u001b[1;32m    200\u001b[0m         \u001b[0;32mfor\u001b[0m \u001b[0mkey\u001b[0m\u001b[0;34m,\u001b[0m \u001b[0mvalue\u001b[0m \u001b[0;32min\u001b[0m \u001b[0mself\u001b[0m\u001b[0;34m.\u001b[0m\u001b[0mitems\u001b[0m\u001b[0;34m(\u001b[0m\u001b[0;34m*\u001b[0m\u001b[0margs\u001b[0m\u001b[0;34m)\u001b[0m\u001b[0;34m:\u001b[0m\u001b[0;34m\u001b[0m\u001b[0;34m\u001b[0m\u001b[0m\n\u001b[0;32m--> 201\u001b[0;31m             \u001b[0mself\u001b[0m\u001b[0;34m[\u001b[0m\u001b[0mkey\u001b[0m\u001b[0;34m]\u001b[0m \u001b[0;34m=\u001b[0m \u001b[0mrecursive_apply\u001b[0m\u001b[0;34m(\u001b[0m\u001b[0mvalue\u001b[0m\u001b[0;34m,\u001b[0m \u001b[0mfunc\u001b[0m\u001b[0;34m)\u001b[0m\u001b[0;34m\u001b[0m\u001b[0;34m\u001b[0m\u001b[0m\n\u001b[0m\u001b[1;32m    202\u001b[0m         \u001b[0;32mreturn\u001b[0m \u001b[0mself\u001b[0m\u001b[0;34m\u001b[0m\u001b[0;34m\u001b[0m\u001b[0m\n\u001b[1;32m    203\u001b[0m \u001b[0;34m\u001b[0m\u001b[0m\n",
            "\u001b[0;32m/usr/local/lib/python3.10/dist-packages/torch_geometric/data/storage.py\u001b[0m in \u001b[0;36mrecursive_apply\u001b[0;34m(data, func)\u001b[0m\n\u001b[1;32m    893\u001b[0m \u001b[0;32mdef\u001b[0m \u001b[0mrecursive_apply\u001b[0m\u001b[0;34m(\u001b[0m\u001b[0mdata\u001b[0m\u001b[0;34m:\u001b[0m \u001b[0mAny\u001b[0m\u001b[0;34m,\u001b[0m \u001b[0mfunc\u001b[0m\u001b[0;34m:\u001b[0m \u001b[0mCallable\u001b[0m\u001b[0;34m)\u001b[0m \u001b[0;34m->\u001b[0m \u001b[0mAny\u001b[0m\u001b[0;34m:\u001b[0m\u001b[0;34m\u001b[0m\u001b[0;34m\u001b[0m\u001b[0m\n\u001b[1;32m    894\u001b[0m     \u001b[0;32mif\u001b[0m \u001b[0misinstance\u001b[0m\u001b[0;34m(\u001b[0m\u001b[0mdata\u001b[0m\u001b[0;34m,\u001b[0m \u001b[0mTensor\u001b[0m\u001b[0;34m)\u001b[0m\u001b[0;34m:\u001b[0m\u001b[0;34m\u001b[0m\u001b[0;34m\u001b[0m\u001b[0m\n\u001b[0;32m--> 895\u001b[0;31m         \u001b[0;32mreturn\u001b[0m \u001b[0mfunc\u001b[0m\u001b[0;34m(\u001b[0m\u001b[0mdata\u001b[0m\u001b[0;34m)\u001b[0m\u001b[0;34m\u001b[0m\u001b[0;34m\u001b[0m\u001b[0m\n\u001b[0m\u001b[1;32m    896\u001b[0m     \u001b[0;32melif\u001b[0m \u001b[0misinstance\u001b[0m\u001b[0;34m(\u001b[0m\u001b[0mdata\u001b[0m\u001b[0;34m,\u001b[0m \u001b[0mtorch\u001b[0m\u001b[0;34m.\u001b[0m\u001b[0mnn\u001b[0m\u001b[0;34m.\u001b[0m\u001b[0mutils\u001b[0m\u001b[0;34m.\u001b[0m\u001b[0mrnn\u001b[0m\u001b[0;34m.\u001b[0m\u001b[0mPackedSequence\u001b[0m\u001b[0;34m)\u001b[0m\u001b[0;34m:\u001b[0m\u001b[0;34m\u001b[0m\u001b[0;34m\u001b[0m\u001b[0m\n\u001b[1;32m    897\u001b[0m         \u001b[0;32mreturn\u001b[0m \u001b[0mfunc\u001b[0m\u001b[0;34m(\u001b[0m\u001b[0mdata\u001b[0m\u001b[0;34m)\u001b[0m\u001b[0;34m\u001b[0m\u001b[0;34m\u001b[0m\u001b[0m\n",
            "\u001b[0;32m/usr/local/lib/python3.10/dist-packages/torch_geometric/data/data.py\u001b[0m in \u001b[0;36m<lambda>\u001b[0;34m(x)\u001b[0m\n\u001b[1;32m    359\u001b[0m         \"\"\"\n\u001b[1;32m    360\u001b[0m         return self.apply(\n\u001b[0;32m--> 361\u001b[0;31m             lambda x: x.to(device=device, non_blocking=non_blocking), *args)\n\u001b[0m\u001b[1;32m    362\u001b[0m \u001b[0;34m\u001b[0m\u001b[0m\n\u001b[1;32m    363\u001b[0m     \u001b[0;32mdef\u001b[0m \u001b[0mcpu\u001b[0m\u001b[0;34m(\u001b[0m\u001b[0mself\u001b[0m\u001b[0;34m,\u001b[0m \u001b[0;34m*\u001b[0m\u001b[0margs\u001b[0m\u001b[0;34m:\u001b[0m \u001b[0mstr\u001b[0m\u001b[0;34m)\u001b[0m\u001b[0;34m:\u001b[0m\u001b[0;34m\u001b[0m\u001b[0;34m\u001b[0m\u001b[0m\n",
            "\u001b[0;31mRuntimeError\u001b[0m: CUDA error: device-side assert triggered\nCUDA kernel errors might be asynchronously reported at some other API call, so the stacktrace below might be incorrect.\nFor debugging consider passing CUDA_LAUNCH_BLOCKING=1.\nCompile with `TORCH_USE_CUDA_DSA` to enable device-side assertions.\n"
          ]
        }
      ]
    },
    {
      "cell_type": "code",
      "source": [
        "H_data[triplet_names].edge_label_index"
      ],
      "metadata": {
        "colab": {
          "base_uri": "https://localhost:8080/"
        },
        "id": "rVA8-U-hUYuw",
        "outputId": "8a7c870a-e33d-4254-fa50-bda44f17939b"
      },
      "execution_count": 26,
      "outputs": [
        {
          "output_type": "execute_result",
          "data": {
            "text/plain": [
              "tensor([[  51,  706,  157,  ...,  144,  919,  418],\n",
              "        [4361,  695, 3086,  ..., 4115,  923, 1259]], device='cuda:0')"
            ]
          },
          "metadata": {},
          "execution_count": 26
        }
      ]
    },
    {
      "cell_type": "code",
      "source": [
        "H_data[triplet_names].edge_label_index[1,0] = 4361"
      ],
      "metadata": {
        "colab": {
          "base_uri": "https://localhost:8080/",
          "height": 193
        },
        "id": "JZiIu1WgV0kU",
        "outputId": "d08a760a-86ac-4d15-ce31-055ccdfdb78f"
      },
      "execution_count": 32,
      "outputs": [
        {
          "output_type": "error",
          "ename": "RuntimeError",
          "evalue": "CUDA error: device-side assert triggered\nCUDA kernel errors might be asynchronously reported at some other API call, so the stacktrace below might be incorrect.\nFor debugging consider passing CUDA_LAUNCH_BLOCKING=1.\nCompile with `TORCH_USE_CUDA_DSA` to enable device-side assertions.\n",
          "traceback": [
            "\u001b[0;31m---------------------------------------------------------------------------\u001b[0m",
            "\u001b[0;31mRuntimeError\u001b[0m                              Traceback (most recent call last)",
            "\u001b[0;32m<ipython-input-32-62ec6f700e5a>\u001b[0m in \u001b[0;36m<cell line: 1>\u001b[0;34m()\u001b[0m\n\u001b[0;32m----> 1\u001b[0;31m \u001b[0mH_data\u001b[0m\u001b[0;34m[\u001b[0m\u001b[0mtriplet_names\u001b[0m\u001b[0;34m]\u001b[0m\u001b[0;34m.\u001b[0m\u001b[0medge_label_index\u001b[0m\u001b[0;34m[\u001b[0m\u001b[0;36m1\u001b[0m\u001b[0;34m,\u001b[0m\u001b[0;36m0\u001b[0m\u001b[0;34m]\u001b[0m \u001b[0;34m=\u001b[0m \u001b[0;36m4361\u001b[0m\u001b[0;34m\u001b[0m\u001b[0;34m\u001b[0m\u001b[0m\n\u001b[0m",
            "\u001b[0;31mRuntimeError\u001b[0m: CUDA error: device-side assert triggered\nCUDA kernel errors might be asynchronously reported at some other API call, so the stacktrace below might be incorrect.\nFor debugging consider passing CUDA_LAUNCH_BLOCKING=1.\nCompile with `TORCH_USE_CUDA_DSA` to enable device-side assertions.\n"
          ]
        }
      ]
    },
    {
      "cell_type": "code",
      "source": [
        "# changed the edges for prediction\n",
        "pred = model(H_data.to(device)).tolist()\n",
        "pred[0:10]"
      ],
      "metadata": {
        "colab": {
          "base_uri": "https://localhost:8080/",
          "height": 228
        },
        "id": "0c53PQShV96H",
        "outputId": "12bc5001-b5bd-4ea4-90ef-c69c7fa51c7a"
      },
      "execution_count": 31,
      "outputs": [
        {
          "output_type": "error",
          "ename": "RuntimeError",
          "evalue": "CUDA error: device-side assert triggered\nCUDA kernel errors might be asynchronously reported at some other API call, so the stacktrace below might be incorrect.\nFor debugging consider passing CUDA_LAUNCH_BLOCKING=1.\nCompile with `TORCH_USE_CUDA_DSA` to enable device-side assertions.\n",
          "traceback": [
            "\u001b[0;31m---------------------------------------------------------------------------\u001b[0m",
            "\u001b[0;31mRuntimeError\u001b[0m                              Traceback (most recent call last)",
            "\u001b[0;32m<ipython-input-31-e85537585587>\u001b[0m in \u001b[0;36m<cell line: 2>\u001b[0;34m()\u001b[0m\n\u001b[1;32m      1\u001b[0m \u001b[0;31m# changed the edges for prediction\u001b[0m\u001b[0;34m\u001b[0m\u001b[0;34m\u001b[0m\u001b[0m\n\u001b[0;32m----> 2\u001b[0;31m \u001b[0mpred\u001b[0m \u001b[0;34m=\u001b[0m \u001b[0mmodel\u001b[0m\u001b[0;34m(\u001b[0m\u001b[0mH_data\u001b[0m\u001b[0;34m.\u001b[0m\u001b[0mto\u001b[0m\u001b[0;34m(\u001b[0m\u001b[0mdevice\u001b[0m\u001b[0;34m)\u001b[0m\u001b[0;34m)\u001b[0m\u001b[0;34m.\u001b[0m\u001b[0mtolist\u001b[0m\u001b[0;34m(\u001b[0m\u001b[0;34m)\u001b[0m\u001b[0;34m\u001b[0m\u001b[0;34m\u001b[0m\u001b[0m\n\u001b[0m\u001b[1;32m      3\u001b[0m \u001b[0mpred\u001b[0m\u001b[0;34m[\u001b[0m\u001b[0;36m0\u001b[0m\u001b[0;34m:\u001b[0m\u001b[0;36m10\u001b[0m\u001b[0;34m]\u001b[0m\u001b[0;34m\u001b[0m\u001b[0;34m\u001b[0m\u001b[0m\n",
            "\u001b[0;31mRuntimeError\u001b[0m: CUDA error: device-side assert triggered\nCUDA kernel errors might be asynchronously reported at some other API call, so the stacktrace below might be incorrect.\nFor debugging consider passing CUDA_LAUNCH_BLOCKING=1.\nCompile with `TORCH_USE_CUDA_DSA` to enable device-side assertions.\n"
          ]
        }
      ]
    }
  ]
}